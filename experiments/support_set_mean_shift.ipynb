{
  "nbformat": 4,
  "nbformat_minor": 0,
  "metadata": {
    "accelerator": "GPU",
    "colab": {
      "name": "support_set_mean_shift_git.ipynb",
      "provenance": [],
      "collapsed_sections": [],
      "toc_visible": true,
      "machine_shape": "hm"
    },
    "kernelspec": {
      "name": "python3",
      "display_name": "Python 3"
    },
    "language_info": {
      "codemirror_mode": {
        "name": "ipython",
        "version": 3
      },
      "file_extension": ".py",
      "mimetype": "text/x-python",
      "name": "python",
      "nbconvert_exporter": "python",
      "pygments_lexer": "ipython3",
      "version": "3.7.3"
    },
    "toc": {
      "base_numbering": 1,
      "nav_menu": {},
      "number_sections": true,
      "sideBar": true,
      "skip_h1_title": false,
      "title_cell": "Table of Contents",
      "title_sidebar": "Contents",
      "toc_cell": false,
      "toc_position": {
        "height": "100px",
        "left": "25.4167px",
        "top": "109.778px",
        "width": "220.212px"
      },
      "toc_section_display": true,
      "toc_window_display": true
    }
  },
  "cells": [
    {
      "cell_type": "markdown",
      "metadata": {
        "colab_type": "text",
        "id": "Koz3muRlphF8"
      },
      "source": [
        "# Deep Mean Shift Clustering"
      ]
    },
    {
      "cell_type": "markdown",
      "metadata": {
        "colab_type": "text",
        "id": "JKufrmf7pnTD"
      },
      "source": [
        "## Reqs"
      ]
    },
    {
      "cell_type": "code",
      "metadata": {
        "colab_type": "code",
        "id": "Zdgv6ZgQFLMg",
        "outputId": "a95dbea0-347d-4cc5-d998-c95a2d26d4a8",
        "colab": {
          "base_uri": "https://localhost:8080/",
          "height": 188
        }
      },
      "source": [
        "!pip install mnist\n",
        "from google.colab import drive\n",
        "drive.mount('/content/gdrive/')\n",
        "!pip install --upgrade torch torchvision"
      ],
      "execution_count": 0,
      "outputs": [
        {
          "output_type": "stream",
          "text": [
            "Requirement already satisfied: mnist in /usr/local/lib/python3.6/dist-packages (0.2.2)\n",
            "Requirement already satisfied: numpy in /usr/local/lib/python3.6/dist-packages (from mnist) (1.16.5)\n",
            "Mounted at /content/gdrive/\n",
            "Requirement already up-to-date: torch in /usr/local/lib/python3.6/dist-packages (1.3.0+cu100)\n",
            "Requirement already up-to-date: torchvision in /usr/local/lib/python3.6/dist-packages (0.4.1+cu100)\n",
            "Requirement already satisfied, skipping upgrade: numpy in /usr/local/lib/python3.6/dist-packages (from torch) (1.16.5)\n",
            "Requirement already satisfied, skipping upgrade: six in /usr/local/lib/python3.6/dist-packages (from torchvision) (1.12.0)\n",
            "Requirement already satisfied, skipping upgrade: pillow>=4.1.1 in /usr/local/lib/python3.6/dist-packages (from torchvision) (4.3.0)\n",
            "Requirement already satisfied, skipping upgrade: olefile in /usr/local/lib/python3.6/dist-packages (from pillow>=4.1.1->torchvision) (0.46)\n"
          ],
          "name": "stdout"
        }
      ]
    },
    {
      "cell_type": "markdown",
      "metadata": {
        "colab_type": "text",
        "id": "1lTjIOhb09zD"
      },
      "source": [
        "### Import"
      ]
    },
    {
      "cell_type": "code",
      "metadata": {
        "ExecuteTime": {
          "end_time": "2019-03-28T10:43:12.108767Z",
          "start_time": "2019-03-28T10:43:12.002045Z"
        },
        "colab_type": "code",
        "id": "iKrYZe-LH0MI",
        "colab": {}
      },
      "source": [
        "import mnist\n",
        "import pickle\n",
        "import torch\n",
        "import torchvision.models as models\n",
        "import numpy as np\n",
        "import matplotlib.pyplot as plt\n",
        "import os\n",
        "from PIL import Image\n",
        "import torch.nn as nn\n",
        "import torch.nn.functional as F\n",
        "import torchvision.datasets\n",
        "import torchvision.transforms as transforms\n",
        "import torch.optim as optim\n",
        "from torch.autograd import Variable, Function, gradcheck\n",
        "from itertools import cycle\n",
        "from tqdm import tqdm"
      ],
      "execution_count": 0,
      "outputs": []
    },
    {
      "cell_type": "code",
      "metadata": {
        "colab_type": "code",
        "id": "DBWr408ADFH7",
        "outputId": "4b7f5a9d-28c8-4b09-8aca-e26ad09457ad",
        "colab": {
          "base_uri": "https://localhost:8080/",
          "height": 34
        }
      },
      "source": [
        "root = '/content/gdrive/My Drive/Deep Mean Shift Clustering/Experiments/'\n",
        "torch.autograd.set_detect_anomaly(True)"
      ],
      "execution_count": 0,
      "outputs": [
        {
          "output_type": "execute_result",
          "data": {
            "text/plain": [
              "<torch.autograd.anomaly_mode.set_detect_anomaly at 0x7f086b522550>"
            ]
          },
          "metadata": {
            "tags": []
          },
          "execution_count": 3
        }
      ]
    },
    {
      "cell_type": "markdown",
      "metadata": {
        "colab_type": "text",
        "id": "2eNoyMkTTyQT"
      },
      "source": [
        "## Dataset"
      ]
    },
    {
      "cell_type": "markdown",
      "metadata": {
        "colab_type": "text",
        "id": "ib4AP5jVT4H5"
      },
      "source": [
        "### Download"
      ]
    },
    {
      "cell_type": "code",
      "metadata": {
        "ExecuteTime": {
          "end_time": "2019-03-28T10:43:12.156945Z",
          "start_time": "2019-03-28T10:43:12.110481Z"
        },
        "colab_type": "code",
        "id": "PhNI3-5v2H9f",
        "colab": {}
      },
      "source": [
        "trans = transforms.Compose([transforms.ToTensor()])\n",
        "train = torchvision.datasets.MNIST(root+'data/', train=True, transform=trans, target_transform=None, download=True)\n",
        "test = torchvision.datasets.MNIST(root+'data/', train=False, transform=trans, target_transform=None, download=True)"
      ],
      "execution_count": 0,
      "outputs": []
    },
    {
      "cell_type": "markdown",
      "metadata": {
        "colab_type": "text",
        "id": "gkPpTpiYT7YN"
      },
      "source": [
        "### Load"
      ]
    },
    {
      "cell_type": "code",
      "metadata": {
        "ExecuteTime": {
          "end_time": "2019-03-28T10:43:12.236885Z",
          "start_time": "2019-03-28T10:43:12.157980Z"
        },
        "colab_type": "code",
        "id": "tbwnZznP5iFx",
        "outputId": "be15488c-a8b0-498b-ac66-5cd95e5d97e0",
        "scrolled": true,
        "colab": {
          "base_uri": "https://localhost:8080/",
          "height": 50
        }
      },
      "source": [
        "train_batch_size = 256\n",
        "kernel_batch_size = 1024\n",
        "test_batch_size = 256\n",
        "\n",
        "train_loader = torch.utils.data.DataLoader(\n",
        "                 dataset=train,\n",
        "                 batch_size=train_batch_size,\n",
        "                 shuffle=True)\n",
        "\n",
        "#mean_shift batch\n",
        "kernel_loader = torch.utils.data.DataLoader(\n",
        "                 dataset=train,\n",
        "                 batch_size=kernel_batch_size,\n",
        "                 shuffle=True)\n",
        "\n",
        "test_loader = torch.utils.data.DataLoader(\n",
        "                dataset=test,\n",
        "                batch_size=test_batch_size,\n",
        "                shuffle=True)\n",
        "\n",
        "print ('total trainning batch number: '+ str(len(train_loader)))\n",
        "print ('total testing batch number: '+ str(len(test_loader)))"
      ],
      "execution_count": 0,
      "outputs": [
        {
          "output_type": "stream",
          "text": [
            "total trainning batch number: 235\n",
            "total testing batch number: 40\n"
          ],
          "name": "stdout"
        }
      ]
    },
    {
      "cell_type": "markdown",
      "metadata": {
        "colab_type": "text",
        "id": "18E3i2MY75e7"
      },
      "source": [
        "## Plotter"
      ]
    },
    {
      "cell_type": "code",
      "metadata": {
        "ExecuteTime": {
          "end_time": "2019-03-28T10:43:12.328958Z",
          "start_time": "2019-03-28T10:43:12.238468Z"
        },
        "colab_type": "code",
        "id": "BHvTGYCF75e8",
        "colab": {}
      },
      "source": [
        "def plot_regen(model, x_k):\n",
        "\n",
        "    for batch_idx, (x, target) in enumerate(test_loader):\n",
        "\n",
        "        train_image = x\n",
        "        break\n",
        "\n",
        "    fig=plt.figure(figsize=(10,40))\n",
        "\n",
        "    num_im = 4\n",
        "    for i in range(num_im):\n",
        "        data = np.array(train_image[i], dtype='float')\n",
        "        data = data.reshape((28, 28))\n",
        "        ax = fig.add_subplot(1, num_im, i+1)\n",
        "        plt.imshow(data, cmap='gray')\n",
        "        ax.get_xaxis().set_visible(False)\n",
        "        ax.get_yaxis().set_visible(False)\n",
        "\n",
        "    plt.show()\n",
        "\n",
        "    fig=plt.figure(figsize=(10,40))\n",
        "\n",
        "    data = train_image.float()\n",
        "    out = model(data.cuda(), x_k)[0]\n",
        "    out = out.cpu().detach().numpy()\n",
        "\n",
        "    num_im = 4\n",
        "    for i in range(num_im):\n",
        "        out1 = out[i].reshape((28, 28))\n",
        "        out1 = np.array(out1, dtype='float')\n",
        "        \n",
        "        ax = fig.add_subplot(1, num_im, i+1)\n",
        "        plt.imshow(out1, cmap='gray')\n",
        "        ax.get_xaxis().set_visible(False)\n",
        "        ax.get_yaxis().set_visible(False)\n",
        "    \n",
        "    plt.show()\n"
      ],
      "execution_count": 0,
      "outputs": []
    },
    {
      "cell_type": "markdown",
      "metadata": {
        "colab_type": "text",
        "id": "bG7TTpwZ0eDE"
      },
      "source": [
        "# AE Def"
      ]
    },
    {
      "cell_type": "markdown",
      "metadata": {
        "colab_type": "text",
        "id": "7rF1Ll0r75fA"
      },
      "source": [
        "## Backbone + Regen"
      ]
    },
    {
      "cell_type": "code",
      "metadata": {
        "ExecuteTime": {
          "end_time": "2019-03-28T10:43:12.438008Z",
          "start_time": "2019-03-28T10:43:12.330822Z"
        },
        "colab_type": "code",
        "id": "I9cK17IH75fA",
        "colab": {}
      },
      "source": [
        "class AE(nn.Module):\n",
        "    def __init__(self, z_len, ms_clust):\n",
        "        super(AE, self).__init__()\n",
        "\n",
        "        self.conv_1 = nn.Conv2d(1, 20, kernel_size=5, stride=1)\n",
        "        self.pool = nn.MaxPool2d(2, 2, return_indices=True)\n",
        "        self.ind1 = 0\n",
        "        self.ind2 = 0\n",
        "        self.conv_2 = nn.Conv2d(20, 50, kernel_size=5, stride=1)\n",
        "        self.fc_1 = nn.Linear(4*4*50, 500)\n",
        "        self.fc_2 = nn.Linear(500,z_len)\n",
        "        self.relu = nn.ReLU()\n",
        "        self.sigmoid = nn.Sigmoid()\n",
        "\n",
        "        self.upfc_1 = nn.Linear(z_len, 500)\n",
        "        self.upfc_2 = nn.Linear(500, 4*4*50)\n",
        "        self.unpool = nn.MaxUnpool2d(2, 2)\n",
        "        self.upconv_1 = nn.ConvTranspose2d(50, 20, kernel_size=5, stride=1)\n",
        "        self.upconv_2 = nn.ConvTranspose2d(20, 1, kernel_size=5, stride=1)\n",
        "        \n",
        "        self.ms_clust = ms_clust\n",
        "\n",
        "    def encode(self, x):\n",
        "        z = self.conv_1(x)\n",
        "        z = self.relu(z)\n",
        "        z, self.ind1 = self.pool(z)\n",
        "        z = self.conv_2(z)\n",
        "        z = self.relu(z)\n",
        "        z, self.ind2 = self.pool(z)\n",
        "        z = z.view(z.size(0), -1)\n",
        "        z = self.fc_1(z)\n",
        "        z = self.relu(z)\n",
        "        z = self.fc_2(z)\n",
        "        z = F.normalize(z, p=2, dim=1)\n",
        "        return z\n",
        "    \n",
        "    def decode(self, z):\n",
        "        x = self.upfc_1(z)\n",
        "        x = self.relu(x)\n",
        "        x = self.upfc_2(x)\n",
        "        x = x.view(x.size(0), 50, 4, 4)\n",
        "        x = self.unpool(x, self.ind2)\n",
        "        x = self.relu(x)\n",
        "        x = self.upconv_1(x)\n",
        "        x = self.unpool(x, self.ind1)\n",
        "        x = self.relu(x)\n",
        "        x = self.upconv_2(x)\n",
        "        x = self.sigmoid(x)\n",
        "        return x\n",
        "\n",
        "    def forward(self, x, x_k):\n",
        "        z_k = self.encode(x_k)\n",
        "        z = self.encode(x)\n",
        "        \n",
        "        Tr, Tr_mask, A = self.ms_clust(z.t(), z_k.t())\n",
        "        \n",
        "        x_ = self.decode(Tr[:, -1, :])\n",
        "        \n",
        "        return x_, Tr, Tr_mask, A"
      ],
      "execution_count": 0,
      "outputs": []
    },
    {
      "cell_type": "markdown",
      "metadata": {
        "colab_type": "text",
        "id": "gTOeiQQMt_Yq"
      },
      "source": [
        "## Mean Shift Cluster"
      ]
    },
    {
      "cell_type": "code",
      "metadata": {
        "ExecuteTime": {
          "end_time": "2019-03-28T10:43:12.546512Z",
          "start_time": "2019-03-28T10:43:12.439598Z"
        },
        "colab_type": "code",
        "id": "L3dCZ_O_uDQy",
        "colab": {}
      },
      "source": [
        "class Mean_Shift_Cluster(torch.nn.Module):\n",
        "\n",
        "    def __init__(self, lamb, delta, eta, T):\n",
        "        super(Mean_Shift_Cluster, self).__init__()\n",
        "        self.lamb = lamb #Bandwidth\n",
        "        self.delta = delta #Bandwidth\n",
        "        self.eta = eta #ascent rate\n",
        "        self.T = T #Max time steps for mean shift\n",
        "        self.D = None #D[i][j] is the density estimate of j^th update in trajectory of the i^th point\n",
        "        # self.M = None #M[i] is the density estimate of the mode of the i^th point\n",
        "        self.Tr = None #T-time steps long trajectory of each point\n",
        "        self.Tr_mask = None #Mask to infer the actual length of trajectories\n",
        "        self.A = None #A[i][j] = 1, if z_i and z_j have the same mode, 0 otherwise\n",
        "        \n",
        "    def calc_modes(self, X_k):\n",
        "        X = self.Tr[-1]\n",
        "        #Distance on sphere\n",
        "        S = torch.mm(X_k.t(), X)\n",
        "        #Kernel Evalutation\n",
        "        K = torch.exp(self.lamb * S)\n",
        "        #Weights\n",
        "        k = X_k.shape[1]\n",
        "        d = torch.mm(K.t(), torch.ones(k, 1).cuda())\n",
        "        self.D = torch.cat((self.D, d/d.shape[0]), 1)\n",
        "        #Modes\n",
        "        self.M = self.D[:, -1]\n",
        "        \n",
        "    def calc_adj(self):\n",
        "        X = self.Tr[-1].t()\n",
        "        #f(Distance) on sphere\n",
        "        S = torch.mm(X, X.t())\n",
        "        #Distance on sphere\n",
        "        dist = torch.acos(S)\n",
        "        #constructing adjacency\n",
        "        self.A = dist < torch.sqrt(torch.Tensor([self.lamb]).cuda())\n",
        "    \n",
        "    def calc_mask(self):\n",
        "        #filter\n",
        "        f = torch.eye(self.T+1)\n",
        "        f_t = -1 * torch.ones(self.T)\n",
        "        f = f + torch.diag(f_t, 1)\n",
        "        f = f.cuda()\n",
        "        #update progression\n",
        "        diff = torch.mm(self.D, f)\n",
        "        #convergence time mask\n",
        "        self.Tr_mask = torch.abs(diff) > self.delta\n",
        "        self.Tr_mask[:, 0] = True\n",
        "        self.Tr_mask.requires_grad = False\n",
        "\n",
        "    def mean_shift_once(self, X, X_k):   \n",
        "        # print('X')\n",
        "        # print(X)\n",
        "        # #Distance on sphere\n",
        "        S = torch.mm(X_k.t(), X)\n",
        "        #Kernel Evalutation\n",
        "        K = torch.exp(self.lamb * S)\n",
        "        #Weights\n",
        "        k = X_k.shape[1]\n",
        "        d = torch.mm(K.t(), torch.ones(k, 1).cuda())\n",
        "        \n",
        "        if self.D is None:\n",
        "            self.D = d/d.shape[0]\n",
        "        else:\n",
        "            self.D = torch.cat((self.D, d/d.shape[0]), 1)\n",
        "        \n",
        "        q = 1 / d\n",
        "        D_inv = torch.diagflat(q)\n",
        "        new_X = X + self.eta * (torch.mm(X_k, torch.mm(K, D_inv)) - X)\n",
        "        new_norm_X = F.normalize(new_X, p=2, dim=0)\n",
        "        \n",
        "        return new_norm_X\n",
        "  \n",
        "    def forward(self, X, X_k):\n",
        "        #init\n",
        "        self.D = None \n",
        "        self.M = None\n",
        "        self.Tr = None \n",
        "        self.Tr_mask = None \n",
        "        self.A = None \n",
        "\n",
        "        # dims: seq_len x z_len x batch_size\n",
        "        self.Tr = torch.cat((X.unsqueeze(0), self.mean_shift_once(X, X_k).unsqueeze(0)))\n",
        "        for it in range(1, self.T):\n",
        "            self.Tr = torch.cat((self.Tr, self.mean_shift_once(self.Tr[-1], X_k).unsqueeze(0)))\n",
        "        \n",
        "        # modes\n",
        "        self.calc_modes(X_k)\n",
        "        self.calc_adj()\n",
        "        self.calc_mask()\n",
        "        \n",
        "        # dims: batch_size x seq_len x z_len\n",
        "        self.Tr = self.Tr.permute(2, 0, 1)\n",
        "        \n",
        "        return self.Tr, self.Tr_mask, self.A"
      ],
      "execution_count": 0,
      "outputs": []
    },
    {
      "cell_type": "markdown",
      "metadata": {
        "colab_type": "text",
        "id": "GEc_XG7FbjMy"
      },
      "source": [
        "## Loss"
      ]
    },
    {
      "cell_type": "markdown",
      "metadata": {
        "id": "5vb70bLI5dfP",
        "colab_type": "text"
      },
      "source": [
        "### Support Set Loss"
      ]
    },
    {
      "cell_type": "code",
      "metadata": {
        "ExecuteTime": {
          "end_time": "2019-03-28T10:43:12.736791Z",
          "start_time": "2019-03-28T10:43:12.655425Z"
        },
        "colab_type": "code",
        "id": "8VM7uD9VbmRN",
        "colab": {}
      },
      "source": [
        "class Support_Set_Loss(torch.nn.Module):\n",
        "\n",
        "    def __init__(self, alpha):\n",
        "        super(Support_Set_Loss, self).__init__()\n",
        "        self.alpha = alpha\n",
        "        \n",
        "    def forward(self, Tr, Tr_mask, A):\n",
        "        # loss weight for positive neighborhood\n",
        "        A = -1 * (1 + self.alpha) * A + 1\n",
        "        A_t = A.repeat(1, Tr.shape[1]).view(-1, A.shape[1])\n",
        "        A_m = A_t[Tr_mask.flatten()]\n",
        "        \n",
        "        v = Tr.contiguous().view(-1, Tr.shape[-1])\n",
        "        v = v[Tr_mask.flatten()]\n",
        "        w = Tr[:, 0, :]\n",
        "        \n",
        "        #f(distance) on sphere\n",
        "        f_dist = torch.mm(v, w.t())\n",
        "        \n",
        "        loss = torch.sum(f_dist * A_m) / Tr.shape[0]\n",
        "        \n",
        "        return loss"
      ],
      "execution_count": 0,
      "outputs": []
    },
    {
      "cell_type": "markdown",
      "metadata": {
        "id": "fdeNd3cs5dfS",
        "colab_type": "text"
      },
      "source": [
        "### DNN Loss"
      ]
    },
    {
      "cell_type": "code",
      "metadata": {
        "id": "s2i6_AbR5dfS",
        "colab_type": "code",
        "colab": {}
      },
      "source": [
        "class DNN_Loss(torch.nn.Module):\n",
        "\n",
        "    def __init__(self):\n",
        "        super(DNN_Loss, self).__init__()\n",
        "        self.mse = torch.nn.MSELoss(reduction='sum')\n",
        "\n",
        "    def forward(self, X, X_):\n",
        "        regen_loss = self.mse(X, X_)/X.shape[0]\n",
        "        return regen_loss"
      ],
      "execution_count": 0,
      "outputs": []
    },
    {
      "cell_type": "markdown",
      "metadata": {
        "colab_type": "text",
        "id": "JGZZQXtQxq_E"
      },
      "source": [
        "## Weights"
      ]
    },
    {
      "cell_type": "code",
      "metadata": {
        "ExecuteTime": {
          "end_time": "2019-03-28T10:43:12.837838Z",
          "start_time": "2019-03-28T10:43:12.737876Z"
        },
        "colab_type": "code",
        "id": "YM0TzTDexuE5",
        "colab": {}
      },
      "source": [
        "def weights_init(m):\n",
        "    classname = m.__class__.__name__\n",
        "    if classname.find('Conv') != -1:\n",
        "        nn.init.xavier_uniform_(m.weight.data)\n"
      ],
      "execution_count": 0,
      "outputs": []
    },
    {
      "cell_type": "markdown",
      "metadata": {
        "colab_type": "text",
        "id": "FshaBj1BcbfD"
      },
      "source": [
        "# Model Init"
      ]
    },
    {
      "cell_type": "markdown",
      "metadata": {
        "colab_type": "text",
        "id": "OWNPvpYWo0hw"
      },
      "source": [
        "## Params"
      ]
    },
    {
      "cell_type": "code",
      "metadata": {
        "ExecuteTime": {
          "end_time": "2019-03-28T10:43:28.339183Z",
          "start_time": "2019-03-28T10:43:28.336886Z"
        },
        "colab_type": "code",
        "id": "HU65pr02cfEC",
        "colab": {}
      },
      "source": [
        "alpha = 0.5 \n",
        "eta = 1 \n",
        "ms_iter = 10\n",
        "lamb = 72\n",
        "delta = 0.0005\n",
        "total_epochs = 200\n",
        "z_len = 64\n",
        "#support set loss weight\n",
        "c_loss_wt = 0.1\n"
      ],
      "execution_count": 0,
      "outputs": []
    },
    {
      "cell_type": "markdown",
      "metadata": {
        "colab_type": "text",
        "id": "uHmsc0U2o6c-"
      },
      "source": [
        "## Init"
      ]
    },
    {
      "cell_type": "code",
      "metadata": {
        "ExecuteTime": {
          "end_time": "2019-03-28T10:45:03.045417Z",
          "start_time": "2019-03-28T10:45:03.032626Z"
        },
        "colab_type": "code",
        "id": "3_XYa_d5o3iY",
        "scrolled": true,
        "colab": {}
      },
      "source": [
        "stext = 'support_set_ms_full_ngbr'\n",
        "sname = 'checkpoints/support_set_ms_corr/'\n",
        "save_dir = root + sname\n",
        "\n",
        "f = open(save_dir + 'desc.txt', 'w+')\n",
        "f.write(stext)\n",
        "f.close()\n",
        "\n",
        "ms_clust = Mean_Shift_Cluster(lamb, delta, eta, ms_iter)\n",
        "\n",
        "# Load auto encoder\n",
        "model = AE(z_len, ms_clust)\n",
        "weights_init(model)\n",
        "model = model.cuda().train()\n",
        "\n",
        "support_set_loss = Support_Set_Loss(alpha)\n",
        "\n",
        "dnn_loss = DNN_Loss()\n",
        "\n",
        "optimizer = optim.Adam(model.parameters(), lr=0.01)\n",
        "\n",
        "#mean_shift batch\n",
        "kernel_loader = cycle(kernel_loader)"
      ],
      "execution_count": 0,
      "outputs": []
    },
    {
      "cell_type": "markdown",
      "metadata": {
        "colab_type": "text",
        "id": "dBPCDMKsyW2K"
      },
      "source": [
        "# Train"
      ]
    },
    {
      "cell_type": "code",
      "metadata": {
        "ExecuteTime": {
          "start_time": "2019-03-28T10:40:07.093Z"
        },
        "colab_type": "code",
        "id": "w79YozqGvqsB",
        "outputId": "d59855e0-08e3-4243-ea7a-7361e204fd2e",
        "colab": {
          "base_uri": "https://localhost:8080/",
          "height": 1000
        }
      },
      "source": [
        "import time\n",
        "from tqdm import tqdm\n",
        "\n",
        "epoch_avg_total_loss = [0]*total_epochs\n",
        "\n",
        "epoch_avg_cluster_loss = [0]*total_epochs\n",
        "\n",
        "epoch_avg_regen_loss = [0]*total_epochs\n",
        "\n",
        "total_loss_win = 0\n",
        "cluster_loss_win = 0\n",
        "regen_loss_win = 0\n",
        "\n",
        "for epoch in range(total_epochs):\n",
        "    \n",
        "    #To time the code\n",
        "    t = time.time()\n",
        "    \n",
        "    avg_total_loss = 0\n",
        "    avg_cluster_loss = 0\n",
        "    avg_regen_loss = 0\n",
        "    total_batches = 0\n",
        "    \n",
        "    x_ngb, _ = next(kernel_loader)\n",
        "    x_ngb.requires_grad = False\n",
        "    x_ngb = x_ngb.cuda()\n",
        "    \n",
        "    for batch_idx, (x, target) in tqdm(enumerate(train_loader), total=len(train_loader), desc='epoch: '+str(epoch)):\n",
        "        \n",
        "        x, target = x.cuda(), target.numpy()\n",
        "        # x itself will also contribute in kernel evaluation \n",
        "        x_k = torch.cat((x, x_ngb))\n",
        "        x_k.requires_grad = False\n",
        "        \n",
        "        x_, Tr, Tr_mask, A  = model(x, x_k)\n",
        "\n",
        "        cluster_loss = c_loss_wt * support_set_loss(Tr, Tr_mask, A)\n",
        "        regen_loss = dnn_loss(x, x_)\n",
        "        \n",
        "        total_loss = cluster_loss + regen_loss\n",
        "    \n",
        "        optimizer.zero_grad()\n",
        "        total_loss.backward()\n",
        "        optimizer.step()\n",
        "        \n",
        "        total_batches += 1\n",
        "        \n",
        "        avg_total_loss += total_loss.cpu().detach().numpy()\n",
        "        avg_cluster_loss += cluster_loss.cpu().detach().numpy()\n",
        "        avg_regen_loss += regen_loss.cpu().detach().numpy()\n",
        "\n",
        "    #SAVE\n",
        "    \n",
        "    epoch_avg_total_loss[epoch] = avg_total_loss/total_batches\n",
        "    epoch_avg_cluster_loss[epoch] = avg_cluster_loss/total_batches\n",
        "    epoch_avg_regen_loss[epoch] = avg_regen_loss/total_batches\n",
        "  \n",
        "    loss_file = open(save_dir + 'loss_list.pkl', 'wb+')\n",
        "    pickle.dump([epoch_avg_total_loss, epoch_avg_cluster_loss, epoch_avg_regen_loss], loss_file)\n",
        "    loss_file.close()\n",
        "    \n",
        "    \n",
        "    print()\n",
        "    print('epoch', epoch, 'epoch avg loss', epoch_avg_total_loss[epoch])\n",
        "    print('epoch', epoch, 'epoch avg cluster loss', epoch_avg_cluster_loss[epoch])\n",
        "    print('epoch', epoch, 'epoch avg regen loss', epoch_avg_regen_loss[epoch])\n",
        "    print(\"Time taken for epoch: %.2f min(s)\" %((time.time() - t)/60))\n",
        "    print()\n",
        "\n",
        "    plot_regen(model, x)\n",
        "    print('saving...')\n",
        "    print()\n",
        "    torch.save([model.state_dict(), optimizer.state_dict()], save_dir + 'model_' + str(epoch) + '.pt') \n",
        "  "
      ],
      "execution_count": 0,
      "outputs": [
        {
          "output_type": "stream",
          "text": [
            "epoch: 0: 100%|██████████| 235/235 [00:54<00:00,  4.53it/s]\n"
          ],
          "name": "stderr"
        },
        {
          "output_type": "stream",
          "text": [
            "\n",
            "epoch 0 epoch avg loss 57.73225429616076\n",
            "epoch 0 epoch avg cluster loss 33.13315965203529\n",
            "epoch 0 epoch avg regen loss 24.59909456942944\n",
            "Time taken for epoch: 0.92 min(s)\n",
            "\n"
          ],
          "name": "stdout"
        },
        {
          "output_type": "display_data",
          "data": {
            "image/png": "[encoded data removed]",
            "text/plain": [
              "<Figure size 720x2880 with 4 Axes>"
            ]
          },
          "metadata": {
            "tags": []
          }
        },
        {
          "output_type": "display_data",
          "data": {
            "image/png": "[encoded data removed]",
            "text/plain": [
              "<Figure size 720x2880 with 4 Axes>"
            ]
          },
          "metadata": {
            "tags": []
          }
        },
        {
          "output_type": "stream",
          "text": [
            "\repoch: 1:   0%|          | 0/235 [00:00<?, ?it/s]"
          ],
          "name": "stderr"
        },
        {
          "output_type": "stream",
          "text": [
            "saving...\n",
            "\n"
          ],
          "name": "stdout"
        },
        {
          "output_type": "stream",
          "text": [
            "epoch: 1: 100%|██████████| 235/235 [00:55<00:00,  4.52it/s]\n"
          ],
          "name": "stderr"
        },
        {
          "output_type": "stream",
          "text": [
            "\n",
            "epoch 1 epoch avg loss 46.55739300098825\n",
            "epoch 1 epoch avg cluster loss 36.69095194973844\n",
            "epoch 1 epoch avg regen loss 9.866441036792512\n",
            "Time taken for epoch: 0.92 min(s)\n",
            "\n"
          ],
          "name": "stdout"
        },
        {
          "output_type": "display_data",
          "data": {
            "image/png": "[encoded data removed]",
            "text/plain": [
              "<Figure size 720x2880 with 4 Axes>"
            ]
          },
          "metadata": {
            "tags": []
          }
        },
        {
          "output_type": "display_data",
          "data": {
            "image/png": "[encoded data removed]",
            "text/plain": [
              "<Figure size 720x2880 with 4 Axes>"
            ]
          },
          "metadata": {
            "tags": []
          }
        },
        {
          "output_type": "stream",
          "text": [
            "saving...\n",
            "\n"
          ],
          "name": "stdout"
        },
        {
          "output_type": "stream",
          "text": [
            "epoch: 2: 100%|██████████| 235/235 [00:55<00:00,  4.51it/s]\n"
          ],
          "name": "stderr"
        },
        {
          "output_type": "stream",
          "text": [
            "\n",
            "epoch 2 epoch avg loss 25.041098844244125\n",
            "epoch 2 epoch avg cluster loss 17.16182448787892\n",
            "epoch 2 epoch avg regen loss 7.879274968898042\n",
            "Time taken for epoch: 0.92 min(s)\n",
            "\n"
          ],
          "name": "stdout"
        },
        {
          "output_type": "display_data",
          "data": {
            "image/png": "[encoded data removed]",
            "text/plain": [
              "<Figure size 720x2880 with 4 Axes>"
            ]
          },
          "metadata": {
            "tags": []
          }
        },
        {
          "output_type": "display_data",
          "data": {
            "image/png": "[encoded data removed]",
            "text/plain": [
              "<Figure size 720x2880 with 4 Axes>"
            ]
          },
          "metadata": {
            "tags": []
          }
        },
        {
          "output_type": "stream",
          "text": [
            "\repoch: 3:   0%|          | 0/235 [00:00<?, ?it/s]"
          ],
          "name": "stderr"
        },
        {
          "output_type": "stream",
          "text": [
            "saving...\n",
            "\n"
          ],
          "name": "stdout"
        },
        {
          "output_type": "stream",
          "text": [
            "epoch: 3: 100%|██████████| 235/235 [00:54<00:00,  4.54it/s]\n"
          ],
          "name": "stderr"
        },
        {
          "output_type": "stream",
          "text": [
            "\n",
            "epoch 3 epoch avg loss 22.06479818060043\n",
            "epoch 3 epoch avg cluster loss 14.949273553807684\n",
            "epoch 3 epoch avg regen loss 7.115524373155959\n",
            "Time taken for epoch: 0.91 min(s)\n",
            "\n"
          ],
          "name": "stdout"
        },
        {
          "output_type": "display_data",
          "data": {
            "image/png": "[encoded data removed]",
            "text/plain": [
              "<Figure size 720x2880 with 4 Axes>"
            ]
          },
          "metadata": {
            "tags": []
          }
        },
        {
          "output_type": "display_data",
          "data": {
            "image/png": "[encoded data removed]",
            "text/plain": [
              "<Figure size 720x2880 with 4 Axes>"
            ]
          },
          "metadata": {
            "tags": []
          }
        },
        {
          "output_type": "stream",
          "text": [
            "\repoch: 4:   0%|          | 0/235 [00:00<?, ?it/s]"
          ],
          "name": "stderr"
        },
        {
          "output_type": "stream",
          "text": [
            "saving...\n",
            "\n"
          ],
          "name": "stdout"
        },
        {
          "output_type": "stream",
          "text": [
            "epoch: 4: 100%|██████████| 235/235 [00:54<00:00,  4.52it/s]\n"
          ],
          "name": "stderr"
        },
        {
          "output_type": "stream",
          "text": [
            "\n",
            "epoch 4 epoch avg loss 28.8617132775327\n",
            "epoch 4 epoch avg cluster loss 22.182404160499573\n",
            "epoch 4 epoch avg regen loss 6.679309595392105\n",
            "Time taken for epoch: 0.91 min(s)\n",
            "\n"
          ],
          "name": "stdout"
        },
        {
          "output_type": "display_data",
          "data": {
            "image/png": "[encoded data removed]",
            "text/plain": [
              "<Figure size 720x2880 with 4 Axes>"
            ]
          },
          "metadata": {
            "tags": []
          }
        },
        {
          "output_type": "display_data",
          "data": {
            "image/png": "[encoded data removed]",
            "text/plain": [
              "<Figure size 720x2880 with 4 Axes>"
            ]
          },
          "metadata": {
            "tags": []
          }
        },
        {
          "output_type": "stream",
          "text": [
            "\repoch: 5:   0%|          | 0/235 [00:00<?, ?it/s]"
          ],
          "name": "stderr"
        },
        {
          "output_type": "stream",
          "text": [
            "saving...\n",
            "\n"
          ],
          "name": "stdout"
        },
        {
          "output_type": "stream",
          "text": [
            "epoch: 5: 100%|██████████| 235/235 [00:55<00:00,  4.49it/s]\n"
          ],
          "name": "stderr"
        },
        {
          "output_type": "stream",
          "text": [
            "\n",
            "epoch 5 epoch avg loss 25.55056784913895\n",
            "epoch 5 epoch avg cluster loss 19.373531937091908\n",
            "epoch 5 epoch avg regen loss 6.177036056112736\n",
            "Time taken for epoch: 0.92 min(s)\n",
            "\n"
          ],
          "name": "stdout"
        },
        {
          "output_type": "display_data",
          "data": {
            "image/png": "[encoded data removed]",
            "text/plain": [
              "<Figure size 720x2880 with 4 Axes>"
            ]
          },
          "metadata": {
            "tags": []
          }
        },
        {
          "output_type": "display_data",
          "data": {
            "image/png": "[encoded data removed]",
            "text/plain": [
              "<Figure size 720x2880 with 4 Axes>"
            ]
          },
          "metadata": {
            "tags": []
          }
        },
        {
          "output_type": "stream",
          "text": [
            "\repoch: 6:   0%|          | 0/235 [00:00<?, ?it/s]"
          ],
          "name": "stderr"
        },
        {
          "output_type": "stream",
          "text": [
            "saving...\n",
            "\n"
          ],
          "name": "stdout"
        },
        {
          "output_type": "stream",
          "text": [
            "epoch: 6: 100%|██████████| 235/235 [00:55<00:00,  4.48it/s]\n"
          ],
          "name": "stderr"
        },
        {
          "output_type": "stream",
          "text": [
            "\n",
            "epoch 6 epoch avg loss 29.90185235206117\n",
            "epoch 6 epoch avg cluster loss 24.291580739934393\n",
            "epoch 6 epoch avg regen loss 5.610271409217347\n",
            "Time taken for epoch: 0.92 min(s)\n",
            "\n"
          ],
          "name": "stdout"
        },
        {
          "output_type": "display_data",
          "data": {
            "image/png": "[encoded data removed]",
            "text/plain": [
              "<Figure size 720x2880 with 4 Axes>"
            ]
          },
          "metadata": {
            "tags": []
          }
        },
        {
          "output_type": "display_data",
          "data": {
            "image/png": "[encoded data removed]",
            "text/plain": [
              "<Figure size 720x2880 with 4 Axes>"
            ]
          },
          "metadata": {
            "tags": []
          }
        },
        {
          "output_type": "stream",
          "text": [
            "\repoch: 7:   0%|          | 0/235 [00:00<?, ?it/s]"
          ],
          "name": "stderr"
        },
        {
          "output_type": "stream",
          "text": [
            "saving...\n",
            "\n"
          ],
          "name": "stdout"
        },
        {
          "output_type": "stream",
          "text": [
            "epoch: 7: 100%|██████████| 235/235 [00:55<00:00,  4.52it/s]\n"
          ],
          "name": "stderr"
        },
        {
          "output_type": "stream",
          "text": [
            "\n",
            "epoch 7 epoch avg loss 1.1977871042616823\n",
            "epoch 7 epoch avg cluster loss -4.090090786142552\n",
            "epoch 7 epoch avg regen loss 5.287877642854731\n",
            "Time taken for epoch: 0.92 min(s)\n",
            "\n"
          ],
          "name": "stdout"
        },
        {
          "output_type": "display_data",
          "data": {
            "image/png": "[encoded data removed]",
            "text/plain": [
              "<Figure size 720x2880 with 4 Axes>"
            ]
          },
          "metadata": {
            "tags": []
          }
        },
        {
          "output_type": "display_data",
          "data": {
            "image/png": "[encoded data removed]",
            "text/plain": [
              "<Figure size 720x2880 with 4 Axes>"
            ]
          },
          "metadata": {
            "tags": []
          }
        },
        {
          "output_type": "stream",
          "text": [
            "\repoch: 8:   0%|          | 0/235 [00:00<?, ?it/s]"
          ],
          "name": "stderr"
        },
        {
          "output_type": "stream",
          "text": [
            "saving...\n",
            "\n"
          ],
          "name": "stdout"
        },
        {
          "output_type": "stream",
          "text": [
            "epoch: 8: 100%|██████████| 235/235 [00:55<00:00,  4.52it/s]\n"
          ],
          "name": "stderr"
        },
        {
          "output_type": "stream",
          "text": [
            "\n",
            "epoch 8 epoch avg loss 14.144805559198907\n",
            "epoch 8 epoch avg cluster loss 9.021303818327315\n",
            "epoch 8 epoch avg regen loss 5.123501254142599\n",
            "Time taken for epoch: 0.93 min(s)\n",
            "\n"
          ],
          "name": "stdout"
        },
        {
          "output_type": "display_data",
          "data": {
            "image/png": "[encoded data removed]",
            "text/plain": [
              "<Figure size 720x2880 with 4 Axes>"
            ]
          },
          "metadata": {
            "tags": []
          }
        },
        {
          "output_type": "display_data",
          "data": {
            "image/png": "[encoded data removed]",
            "text/plain": [
              "<Figure size 720x2880 with 4 Axes>"
            ]
          },
          "metadata": {
            "tags": []
          }
        },
        {
          "output_type": "stream",
          "text": [
            "\repoch: 9:   0%|          | 0/235 [00:00<?, ?it/s]"
          ],
          "name": "stderr"
        },
        {
          "output_type": "stream",
          "text": [
            "saving...\n",
            "\n"
          ],
          "name": "stdout"
        },
        {
          "output_type": "stream",
          "text": [
            "epoch: 9: 100%|██████████| 235/235 [00:55<00:00,  4.46it/s]\n"
          ],
          "name": "stderr"
        },
        {
          "output_type": "stream",
          "text": [
            "\n",
            "epoch 9 epoch avg loss 54.376824884211764\n",
            "epoch 9 epoch avg cluster loss 47.26237487285695\n",
            "epoch 9 epoch avg regen loss 7.114450115853168\n",
            "Time taken for epoch: 0.93 min(s)\n",
            "\n"
          ],
          "name": "stdout"
        },
        {
          "output_type": "display_data",
          "data": {
            "image/png": "[encoded data removed]",
            "text/plain": [
              "<Figure size 720x2880 with 4 Axes>"
            ]
          },
          "metadata": {
            "tags": []
          }
        },
        {
          "output_type": "display_data",
          "data": {
            "image/png": "[encoded data removed]",
            "text/plain": [
              "<Figure size 720x2880 with 4 Axes>"
            ]
          },
          "metadata": {
            "tags": []
          }
        },
        {
          "output_type": "stream",
          "text": [
            "\repoch: 10:   0%|          | 0/235 [00:00<?, ?it/s]"
          ],
          "name": "stderr"
        },
        {
          "output_type": "stream",
          "text": [
            "saving...\n",
            "\n"
          ],
          "name": "stdout"
        },
        {
          "output_type": "stream",
          "text": [
            "epoch: 10:  91%|█████████ | 213/235 [00:50<00:05,  4.22it/s]"
          ],
          "name": "stderr"
        },
        {
          "output_type": "error",
          "ename": "KeyboardInterrupt",
          "evalue": "ignored",
          "traceback": [
            "\u001b[0;31m---------------------------------------------------------------------------\u001b[0m",
            "\u001b[0;31mKeyboardInterrupt\u001b[0m                         Traceback (most recent call last)",
            "\u001b[0;32m<ipython-input-14-f13222e8e115>\u001b[0m in \u001b[0;36m<module>\u001b[0;34m()\u001b[0m\n\u001b[1;32m     56\u001b[0m \u001b[0;34m\u001b[0m\u001b[0m\n\u001b[1;32m     57\u001b[0m         \u001b[0moptimizer\u001b[0m\u001b[0;34m.\u001b[0m\u001b[0mzero_grad\u001b[0m\u001b[0;34m(\u001b[0m\u001b[0;34m)\u001b[0m\u001b[0;34m\u001b[0m\u001b[0;34m\u001b[0m\u001b[0m\n\u001b[0;32m---> 58\u001b[0;31m         \u001b[0mtotal_loss\u001b[0m\u001b[0;34m.\u001b[0m\u001b[0mbackward\u001b[0m\u001b[0;34m(\u001b[0m\u001b[0;34m)\u001b[0m\u001b[0;34m\u001b[0m\u001b[0;34m\u001b[0m\u001b[0m\n\u001b[0m\u001b[1;32m     59\u001b[0m         \u001b[0moptimizer\u001b[0m\u001b[0;34m.\u001b[0m\u001b[0mstep\u001b[0m\u001b[0;34m(\u001b[0m\u001b[0;34m)\u001b[0m\u001b[0;34m\u001b[0m\u001b[0;34m\u001b[0m\u001b[0m\n\u001b[1;32m     60\u001b[0m \u001b[0;34m\u001b[0m\u001b[0m\n",
            "\u001b[0;32m/usr/local/lib/python3.6/dist-packages/torch/tensor.py\u001b[0m in \u001b[0;36mbackward\u001b[0;34m(self, gradient, retain_graph, create_graph)\u001b[0m\n\u001b[1;32m    148\u001b[0m                 \u001b[0mproducts\u001b[0m\u001b[0;34m.\u001b[0m \u001b[0mDefaults\u001b[0m \u001b[0mto\u001b[0m\u001b[0;31m \u001b[0m\u001b[0;31m`\u001b[0m\u001b[0;31m`\u001b[0m\u001b[0;32mFalse\u001b[0m\u001b[0;31m`\u001b[0m\u001b[0;31m`\u001b[0m\u001b[0;34m.\u001b[0m\u001b[0;34m\u001b[0m\u001b[0;34m\u001b[0m\u001b[0m\n\u001b[1;32m    149\u001b[0m         \"\"\"\n\u001b[0;32m--> 150\u001b[0;31m         \u001b[0mtorch\u001b[0m\u001b[0;34m.\u001b[0m\u001b[0mautograd\u001b[0m\u001b[0;34m.\u001b[0m\u001b[0mbackward\u001b[0m\u001b[0;34m(\u001b[0m\u001b[0mself\u001b[0m\u001b[0;34m,\u001b[0m \u001b[0mgradient\u001b[0m\u001b[0;34m,\u001b[0m \u001b[0mretain_graph\u001b[0m\u001b[0;34m,\u001b[0m \u001b[0mcreate_graph\u001b[0m\u001b[0;34m)\u001b[0m\u001b[0;34m\u001b[0m\u001b[0;34m\u001b[0m\u001b[0m\n\u001b[0m\u001b[1;32m    151\u001b[0m \u001b[0;34m\u001b[0m\u001b[0m\n\u001b[1;32m    152\u001b[0m     \u001b[0;32mdef\u001b[0m \u001b[0mregister_hook\u001b[0m\u001b[0;34m(\u001b[0m\u001b[0mself\u001b[0m\u001b[0;34m,\u001b[0m \u001b[0mhook\u001b[0m\u001b[0;34m)\u001b[0m\u001b[0;34m:\u001b[0m\u001b[0;34m\u001b[0m\u001b[0;34m\u001b[0m\u001b[0m\n",
            "\u001b[0;32m/usr/local/lib/python3.6/dist-packages/torch/autograd/__init__.py\u001b[0m in \u001b[0;36mbackward\u001b[0;34m(tensors, grad_tensors, retain_graph, create_graph, grad_variables)\u001b[0m\n\u001b[1;32m     97\u001b[0m     Variable._execution_engine.run_backward(\n\u001b[1;32m     98\u001b[0m         \u001b[0mtensors\u001b[0m\u001b[0;34m,\u001b[0m \u001b[0mgrad_tensors\u001b[0m\u001b[0;34m,\u001b[0m \u001b[0mretain_graph\u001b[0m\u001b[0;34m,\u001b[0m \u001b[0mcreate_graph\u001b[0m\u001b[0;34m,\u001b[0m\u001b[0;34m\u001b[0m\u001b[0;34m\u001b[0m\u001b[0m\n\u001b[0;32m---> 99\u001b[0;31m         allow_unreachable=True)  # allow_unreachable flag\n\u001b[0m\u001b[1;32m    100\u001b[0m \u001b[0;34m\u001b[0m\u001b[0m\n\u001b[1;32m    101\u001b[0m \u001b[0;34m\u001b[0m\u001b[0m\n",
            "\u001b[0;31mKeyboardInterrupt\u001b[0m: "
          ]
        }
      ]
    }
  ]
}