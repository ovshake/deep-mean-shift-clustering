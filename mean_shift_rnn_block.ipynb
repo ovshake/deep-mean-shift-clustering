{
  "nbformat": 4,
  "nbformat_minor": 0,
  "metadata": {
    "colab": {
      "name": "mean_shift_rnn_block.ipynb",
      "version": "0.3.2",
      "provenance": [],
      "collapsed_sections": []
    },
    "kernelspec": {
      "name": "python3",
      "display_name": "Python 3"
    },
    "accelerator": "GPU"
  },
  "cells": [
    {
      "metadata": {
        "id": "Koz3muRlphF8",
        "colab_type": "text"
      },
      "cell_type": "markdown",
      "source": [
        "#Mean Shift RNN Block"
      ]
    },
    {
      "metadata": {
        "id": "JKufrmf7pnTD",
        "colab_type": "text"
      },
      "cell_type": "markdown",
      "source": [
        "## Imports"
      ]
    },
    {
      "metadata": {
        "colab_type": "code",
        "id": "onQv2Xkb8urO",
        "colab": {}
      },
      "cell_type": "code",
      "source": [
        "import torch\n",
        "import torchvision.models as models\n",
        "import numpy as np\n",
        "import matplotlib.pyplot as plt\n",
        "import os\n",
        "from PIL import Image\n",
        "import torchvision.transforms as tvtrans"
      ],
      "execution_count": 0,
      "outputs": []
    },
    {
      "metadata": {
        "id": "oV9skoUQZKlz",
        "colab_type": "code",
        "outputId": "cfc59eb5-2737-42ca-99fe-b1f471e0c6ca",
        "colab": {
          "base_uri": "https://localhost:8080/",
          "height": 54
        }
      },
      "cell_type": "code",
      "source": [
        "# http://pytorch.org/\n",
        "from os.path import exists\n",
        "from wheel.pep425tags import get_abbr_impl, get_impl_ver, get_abi_tag\n",
        "platform = '{}{}-{}'.format(get_abbr_impl(), get_impl_ver(), get_abi_tag())\n",
        "cuda_output = !ldconfig -p|grep cudart.so|sed -e 's/.*\\.\\([0-9]*\\)\\.\\([0-9]*\\)$/cu\\1\\2/'\n",
        "accelerator = cuda_output[0] if exists('/dev/nvidia0') else 'cpu'\n",
        "\n",
        "!pip install -q http://download.pytorch.org/whl/{accelerator}/torch-0.4.1-{platform}-linux_x86_64.whl torchvision\n",
        "import torch"
      ],
      "execution_count": 0,
      "outputs": [
        {
          "output_type": "stream",
          "text": [
            "tcmalloc: large alloc 1073750016 bytes == 0x590ac000 @  0x7f84fd5402a4 0x591a07 0x5b5d56 0x502e9a 0x506859 0x502209 0x502f3d 0x506859 0x504c28 0x502540 0x502f3d 0x506859 0x504c28 0x502540 0x502f3d 0x506859 0x504c28 0x502540 0x502f3d 0x507641 0x502209 0x502f3d 0x506859 0x504c28 0x502540 0x502f3d 0x507641 0x504c28 0x502540 0x502f3d 0x507641\n"
          ],
          "name": "stdout"
        }
      ]
    },
    {
      "metadata": {
        "id": "31sYQIceCPaU",
        "colab_type": "code",
        "outputId": "2be7c1f8-c3ba-45ef-88d2-1cf94e919749",
        "colab": {
          "base_uri": "https://localhost:8080/",
          "height": 34
        }
      },
      "cell_type": "code",
      "source": [
        "from google.colab import drive\n",
        "drive.mount('/content/gdrive')"
      ],
      "execution_count": 0,
      "outputs": [
        {
          "output_type": "stream",
          "text": [
            "Mounted at /content/gdrive\n"
          ],
          "name": "stdout"
        }
      ]
    },
    {
      "metadata": {
        "id": "b2gzZbFmG9Lh",
        "colab_type": "code",
        "outputId": "9e6c0a5c-37ae-4ad7-9c76-3791d4553c0b",
        "colab": {
          "base_uri": "https://localhost:8080/",
          "height": 52
        }
      },
      "cell_type": "code",
      "source": [
        "!git clone 'https://github.com/cocodataset/cocoapi.git'"
      ],
      "execution_count": 0,
      "outputs": [
        {
          "output_type": "stream",
          "text": [
            "fatal: destination path 'cocoapi' already exists and is not an empty directory.\n",
            "ls: cannot access 'drive': Transport endpoint is not connected\n"
          ],
          "name": "stdout"
        }
      ]
    },
    {
      "metadata": {
        "id": "iKrYZe-LH0MI",
        "colab_type": "code",
        "colab": {}
      },
      "cell_type": "code",
      "source": [
        "!pip install pillow==4.1.1\n",
        "%reload_ext autoreload\n",
        "%autoreload"
      ],
      "execution_count": 0,
      "outputs": []
    },
    {
      "metadata": {
        "id": "tE1wC7TxOS9b",
        "colab_type": "code",
        "colab": {}
      },
      "cell_type": "code",
      "source": [
        "folder = '/content/gdrive/My Drive/mean shift data/'\n",
        "files = os.listdir(folder)\n",
        "\n",
        "im = []\n",
        "\n",
        "for i, file in enumerate(files):\n",
        "  os.rename(folder + file, folder + str(i))\n",
        "  im.append(Image.open(folder + str(i)).resize((224, 224)))\n",
        "  \n",
        "for i in range(len(im)):\n",
        "  im[i] = tvtrans.ToTensor()(im[i]).unsqueeze(0)"
      ],
      "execution_count": 0,
      "outputs": []
    },
    {
      "metadata": {
        "id": "ncCHRzoyT-RM",
        "colab_type": "code",
        "outputId": "eb272e2a-e2c8-411a-f187-aad00aa9dc2f",
        "colab": {
          "base_uri": "https://localhost:8080/",
          "height": 34
        }
      },
      "cell_type": "code",
      "source": [
        "print(im[0].size())"
      ],
      "execution_count": 0,
      "outputs": [
        {
          "output_type": "stream",
          "text": [
            "torch.Size([1, 3, 224, 224])\n"
          ],
          "name": "stdout"
        }
      ]
    },
    {
      "metadata": {
        "id": "zGENaZgI8vVe",
        "colab_type": "code",
        "outputId": "3497a9f4-2a5a-49dd-eef8-7c773f08b5d0",
        "colab": {
          "base_uri": "https://localhost:8080/",
          "height": 34
        }
      },
      "cell_type": "code",
      "source": [
        "backbone = models.resnet101(pretrained=True)\n",
        "Y = backbone(im[0])\n",
        "Y.size()"
      ],
      "execution_count": 0,
      "outputs": [
        {
          "output_type": "execute_result",
          "data": {
            "text/plain": [
              "torch.Size([1, 1000])"
            ]
          },
          "metadata": {
            "tags": []
          },
          "execution_count": 51
        }
      ]
    },
    {
      "metadata": {
        "id": "SFShDLbiqAoC",
        "colab_type": "text"
      },
      "cell_type": "markdown",
      "source": [
        "## Single Block"
      ]
    },
    {
      "metadata": {
        "id": "AMzFnfb_p_LK",
        "colab_type": "code",
        "colab": {}
      },
      "cell_type": "code",
      "source": [
        "def mean_shift_once(X, delta, eta=1):\n",
        "  \n",
        "  K = torch.exp(delta * torch.mm(X.t(), X))\n",
        "  \n",
        "  N = list(X.size())[1]\n",
        "  ones = torch.ones(N, 1)\n",
        "  D = torch.diagflat(torch.mm(K.t(), ones))\n",
        "  D_inv = D.inverse()\n",
        "  \n",
        "  eye = torch.eye(N)\n",
        "  \n",
        "  shift = (eta * torch.mm(K, D_inv)) + ((1 - eta) * eye)\n",
        "  X = torch.mm(X, shift)\n",
        "  \n",
        "  return X\n",
        "  "
      ],
      "execution_count": 0,
      "outputs": []
    },
    {
      "metadata": {
        "id": "z1x9bddHPqTQ",
        "colab_type": "text"
      },
      "cell_type": "markdown",
      "source": [
        "### Test"
      ]
    },
    {
      "metadata": {
        "id": "tTUPifGEPo6-",
        "colab_type": "code",
        "outputId": "f4f314a2-fc3c-4ce1-9bd8-58dbdc00a5a7",
        "colab": {
          "base_uri": "https://localhost:8080/",
          "height": 347
        }
      },
      "cell_type": "code",
      "source": [
        "X_1 = -2 + 0.5 * torch.randn((2, 100))\n",
        "X_2 = 2 + 0.5 * torch.randn((2, 100))\n",
        "X = torch.cat((X_1, X_2), 1)\n",
        "\n",
        "delta = torch.tensor([0.5/3])\n",
        "\n",
        "# X = Y.detach().reshape(Y.shape[1], Y.shape[2])\n",
        "\n",
        "for i in range(6):\n",
        "  plt.scatter(X.numpy()[0], X.numpy()[1])\n",
        "  X = mean_shift_once(X, delta)\n",
        " \n",
        "plt.show()"
      ],
      "execution_count": 0,
      "outputs": [
        {
          "output_type": "display_data",
          "data": {
            "image/png": "[encoded data removed]",
            "text/plain": [
              "<matplotlib.figure.Figure at 0x7efeb1749710>"
            ]
          },
          "metadata": {
            "tags": []
          }
        }
      ]
    },
    {
      "metadata": {
        "id": "cP5fY-jgVUf4",
        "colab_type": "code",
        "colab": {}
      },
      "cell_type": "code",
      "source": [
        ""
      ],
      "execution_count": 0,
      "outputs": []
    }
  ]
}